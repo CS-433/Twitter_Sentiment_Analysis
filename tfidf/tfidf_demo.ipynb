{
 "cells": [
  {
   "cell_type": "code",
   "execution_count": 4,
   "metadata": {},
   "outputs": [],
   "source": [
    "import numpy as np\n",
    "import pandas as pd\n",
    "from sklearn.feature_extraction.text import TfidfVectorizer \n",
    "from sklearn.feature_extraction.text import CountVectorizer \n",
    "from sklearn.svm import LinearSVC\n",
    "from sklearn.naive_bayes import MultinomialNB\n",
    "from sklearn.naive_bayes import BernoulliNB\n",
    "from sklearn import linear_model\n",
    "import tfidf_models as mod\n",
    "import os \n",
    "import wget\n",
    "\n",
    "seed = 0\n",
    "root = 'data/'\n",
    "os.makedirs(root, exist_ok=True) "
   ]
  },
  {
   "cell_type": "code",
   "execution_count": 2,
   "metadata": {},
   "outputs": [],
   "source": [
    "# Load training set\n",
    "full = True # Whether to use full or small dataset\n",
    "\n",
    "if full: \n",
    "    # Download negative full\n",
    "    neg_url = 'https://api.onedrive.com/v1.0/shares/u!aHR0cHM6Ly8xZHJ2Lm1zL3QvcyFBclREZ3U5ejdJT1ZqcDQ0eDZMdDI5WXBlVXYyZGc_ZT1ZZDJn/root/content'\n",
    "    neg_filename = root + 'train_neg_full_u.txt'\n",
    "    wget.download(neg_url, neg_filename)\n",
    "    # Download positive full\n",
    "    pos_url = '!wget https://api.onedrive.com/v1.0/shares/u!aHR0cHM6Ly8xZHJ2Lm1zL3QvcyFBclREZ3U5ejdJT1ZqcDQzcTc3QmNPbUdIWHQ3TXc_ZT01ejdG/root/content'\n",
    "    pos_filename = root + 'train_pos_full_u.txt'\n",
    "    wget.download(pos_url, pos_filename)\n",
    "else: \n",
    "    # Download negative small\n",
    "    neg_url = 'https://api.onedrive.com/v1.0/shares/u!aHR0cHM6Ly8xZHJ2Lm1zL3QvcyFBclREZ3U5ejdJT1ZqcDQyeURtYWFXMzZoMnVEeGc_ZT1IMnhQ/root/content'\n",
    "    neg_filename = root + 'train_neg_small_u.txt'\n",
    "    wget.download(neg_url, neg_filename)\n",
    "    # Download positive small\n",
    "    pos_url = 'https://api.onedrive.com/v1.0/shares/u!aHR0cHM6Ly8xZHJ2Lm1zL3QvcyFBclREZ3U5ejdJT1ZqcDQxYUNPOENKdTBrX19hY2c_ZT1WNW5Y/root/content'\n",
    "    pos_filename = root + 'train_pos_small_u.txt'\n",
    "    wget.download(pos_url, pos_filename)\n",
    "    \n",
    "\n",
    "# Load corresponding text files\n",
    "pos_tweets = mod.txt_to_list(pos_filename)\n",
    "neg_tweets = mod.txt_to_list(neg_filename)\n",
    "\n",
    "# Shuffle and keep track of labels \n",
    "all_tweets, y = mod.merge_shuffle_label(pos_tweets, neg_tweets, seed)\n",
    "\n",
    "# Split into train and validation sets\n",
    "training_fraction = 0.9\n",
    "train, val, y_train, y_val = mod.split_dataset(training_fraction, all_tweets, y)"
   ]
  },
  {
   "cell_type": "markdown",
   "metadata": {},
   "source": [
    "### Compute TF-IDF"
   ]
  },
  {
   "cell_type": "code",
   "execution_count": 4,
   "metadata": {},
   "outputs": [],
   "source": [
    "# Build training vectorization \n",
    "TFIDF = True # Else use a bag of words representation\n",
    "\n",
    "if TFIDF:\n",
    "    vect = TfidfVectorizer(use_idf=True, ngram_range = (1,2), tokenizer = mod.tk, sublinear_tf = True)\n",
    "    X_train = vect.fit_transform(train)\n",
    "    X_val = vect.transform(val)\n",
    "else:\n",
    "    vect = CountVectorizer(ngram_range = (1,2), tokenizer = mod.tk)\n",
    "    X_train = vect.fit_transform(train)\n",
    "    X_val = vect.transform(val)"
   ]
  },
  {
   "cell_type": "markdown",
   "metadata": {},
   "source": [
    "## Comparing several classifiers on validation set"
   ]
  },
  {
   "cell_type": "code",
   "execution_count": 5,
   "metadata": {},
   "outputs": [
    {
     "name": "stdout",
     "output_type": "stream",
     "text": [
      "Training set accuracy: 86.69% / validation set: 85.12%\n"
     ]
    }
   ],
   "source": [
    "svc = LinearSVC(random_state=0, tol=1e-9, loss = 'squared_hinge', dual = True, C = 0.03)\n",
    "svc.fit(X_train, y_train)\n",
    "\n",
    "mod.judge_pred(svc, X_train, X_val, y_train, y_val)"
   ]
  },
  {
   "cell_type": "code",
   "execution_count": 53,
   "metadata": {},
   "outputs": [
    {
     "name": "stdout",
     "output_type": "stream",
     "text": [
      "Training set accuracy: 86.29% / validation set: 81.59%\n"
     ]
    }
   ],
   "source": [
    "mdb = MultinomialNB()\n",
    "mdb.fit(X_train, y_train)\n",
    "\n",
    "mod.judge_pred(mdb, X_train, X_val, y_train, y_val)"
   ]
  },
  {
   "cell_type": "code",
   "execution_count": 54,
   "metadata": {},
   "outputs": [
    {
     "name": "stdout",
     "output_type": "stream",
     "text": [
      "Training set accuracy: 80.20% / validation set: 75.75%\n"
     ]
    }
   ],
   "source": [
    "bnb = BernoulliNB()\n",
    "bnb.fit(X_train, y_train)\n",
    "\n",
    "mod.judge_pred(bnb, X_train, X_val, y_train, y_val)"
   ]
  },
  {
   "cell_type": "code",
   "execution_count": 13,
   "metadata": {},
   "outputs": [
    {
     "name": "stdout",
     "output_type": "stream",
     "text": [
      "Training set accuracy: 83.71% / validation set: 83.25%\n"
     ]
    }
   ],
   "source": [
    "sgdc =  linear_model.SGDClassifier(loss = 'modified_huber', tol=1e-9, alpha = 0.0001, verbose = False)\n",
    "sgdc.fit(X_train, y_train)\n",
    "\n",
    "mod.judge_pred(sgdc, X_train, X_val, y_train, y_val)"
   ]
  },
  {
   "cell_type": "markdown",
   "metadata": {},
   "source": [
    "### Most useful tokens or bigrams to predict sentiment"
   ]
  },
  {
   "cell_type": "code",
   "execution_count": 6,
   "metadata": {},
   "outputs": [
    {
     "name": "stdout",
     "output_type": "stream",
     "text": [
      "10 strongest bigrams to indicate positive sentiment:\n"
     ]
    },
    {
     "data": {
      "text/html": [
       "<div>\n",
       "<style scoped>\n",
       "    .dataframe tbody tr th:only-of-type {\n",
       "        vertical-align: middle;\n",
       "    }\n",
       "\n",
       "    .dataframe tbody tr th {\n",
       "        vertical-align: top;\n",
       "    }\n",
       "\n",
       "    .dataframe thead th {\n",
       "        text-align: right;\n",
       "    }\n",
       "</style>\n",
       "<table border=\"1\" class=\"dataframe\">\n",
       "  <thead>\n",
       "    <tr style=\"text-align: right;\">\n",
       "      <th></th>\n",
       "      <th>coefficient</th>\n",
       "    </tr>\n",
       "  </thead>\n",
       "  <tbody>\n",
       "    <tr>\n",
       "      <th>)</th>\n",
       "      <td>6.633215</td>\n",
       "    </tr>\n",
       "    <tr>\n",
       "      <th>( (</th>\n",
       "      <td>4.023364</td>\n",
       "    </tr>\n",
       "    <tr>\n",
       "      <th>( &gt;</th>\n",
       "      <td>3.974658</td>\n",
       "    </tr>\n",
       "    <tr>\n",
       "      <th>can't wait</th>\n",
       "      <td>3.368455</td>\n",
       "    </tr>\n",
       "    <tr>\n",
       "      <th>&gt; &gt;</th>\n",
       "      <td>3.081738</td>\n",
       "    </tr>\n",
       "    <tr>\n",
       "      <th>thanks</th>\n",
       "      <td>2.824970</td>\n",
       "    </tr>\n",
       "    <tr>\n",
       "      <th>smile</th>\n",
       "      <td>2.599727</td>\n",
       "    </tr>\n",
       "    <tr>\n",
       "      <th>no problem</th>\n",
       "      <td>2.597634</td>\n",
       "    </tr>\n",
       "    <tr>\n",
       "      <th>cant wait</th>\n",
       "      <td>2.559933</td>\n",
       "    </tr>\n",
       "    <tr>\n",
       "      <th>hapy</th>\n",
       "      <td>2.426204</td>\n",
       "    </tr>\n",
       "  </tbody>\n",
       "</table>\n",
       "</div>"
      ],
      "text/plain": [
       "            coefficient\n",
       ")              6.633215\n",
       "( (            4.023364\n",
       "( >            3.974658\n",
       "can't wait     3.368455\n",
       "> >            3.081738\n",
       "thanks         2.824970\n",
       "smile          2.599727\n",
       "no problem     2.597634\n",
       "cant wait      2.559933\n",
       "hapy           2.426204"
      ]
     },
     "execution_count": 6,
     "metadata": {},
     "output_type": "execute_result"
    }
   ],
   "source": [
    "clf = svc # Choose classifier with best performance on validation set\n",
    "\n",
    "df = pd.DataFrame(svc.coef_.flatten(), index=vect.get_feature_names(), columns=[\"coefficient\"]) \n",
    "\n",
    "n_ = 10 # Number of tokens to show\n",
    "pd.set_option('display.max_rows', n_)\n",
    "\n",
    "print('{:d} strongest bigrams to indicate positive sentiment:'.format(n_))\n",
    "df.sort_values(by=[\"coefficient\"],ascending=False).head(n_)\n"
   ]
  },
  {
   "cell_type": "code",
   "execution_count": 7,
   "metadata": {},
   "outputs": [
    {
     "name": "stdout",
     "output_type": "stream",
     "text": [
      "10 strongest bigrams to indicate negative sentiment:\n"
     ]
    },
    {
     "data": {
      "text/html": [
       "<div>\n",
       "<style scoped>\n",
       "    .dataframe tbody tr th:only-of-type {\n",
       "        vertical-align: middle;\n",
       "    }\n",
       "\n",
       "    .dataframe tbody tr th {\n",
       "        vertical-align: top;\n",
       "    }\n",
       "\n",
       "    .dataframe thead th {\n",
       "        text-align: right;\n",
       "    }\n",
       "</style>\n",
       "<table border=\"1\" class=\"dataframe\">\n",
       "  <thead>\n",
       "    <tr style=\"text-align: right;\">\n",
       "      <th></th>\n",
       "      <th>coefficient</th>\n",
       "    </tr>\n",
       "  </thead>\n",
       "  <tbody>\n",
       "    <tr>\n",
       "      <th>(</th>\n",
       "      <td>-15.245847</td>\n",
       "    </tr>\n",
       "    <tr>\n",
       "      <th>... &lt;url&gt;</th>\n",
       "      <td>-10.139855</td>\n",
       "    </tr>\n",
       "    <tr>\n",
       "      <th>sad</th>\n",
       "      <td>-5.654967</td>\n",
       "    </tr>\n",
       "    <tr>\n",
       "      <th>mis</th>\n",
       "      <td>-4.341510</td>\n",
       "    </tr>\n",
       "    <tr>\n",
       "      <th>por</th>\n",
       "      <td>-3.733259</td>\n",
       "    </tr>\n",
       "    <tr>\n",
       "      <th>wah</th>\n",
       "      <td>-3.633903</td>\n",
       "    </tr>\n",
       "    <tr>\n",
       "      <th>cry</th>\n",
       "      <td>-3.520836</td>\n",
       "    </tr>\n",
       "    <tr>\n",
       "      <th>crying</th>\n",
       "      <td>-3.395575</td>\n",
       "    </tr>\n",
       "    <tr>\n",
       "      <th>(8</th>\n",
       "      <td>-3.307706</td>\n",
       "    </tr>\n",
       "    <tr>\n",
       "      <th>sucks</th>\n",
       "      <td>-3.200722</td>\n",
       "    </tr>\n",
       "  </tbody>\n",
       "</table>\n",
       "</div>"
      ],
      "text/plain": [
       "           coefficient\n",
       "(           -15.245847\n",
       "... <url>   -10.139855\n",
       "sad          -5.654967\n",
       "mis          -4.341510\n",
       "por          -3.733259\n",
       "wah          -3.633903\n",
       "cry          -3.520836\n",
       "crying       -3.395575\n",
       "(8           -3.307706\n",
       "sucks        -3.200722"
      ]
     },
     "execution_count": 7,
     "metadata": {},
     "output_type": "execute_result"
    }
   ],
   "source": [
    "print('{:d} strongest bigrams to indicate negative sentiment:'.format(n_))\n",
    "df.sort_values(by=[\"coefficient\"],ascending=False).tail(n_).sort_values(by=[\"coefficient\"],ascending=True)"
   ]
  },
  {
   "cell_type": "markdown",
   "metadata": {},
   "source": [
    "### Most confident predictions"
   ]
  },
  {
   "cell_type": "code",
   "execution_count": 8,
   "metadata": {},
   "outputs": [
    {
     "name": "stdout",
     "output_type": "stream",
     "text": [
      "10 most confident correct predictions of positive tweets\n"
     ]
    },
    {
     "data": {
      "text/html": [
       "<div>\n",
       "<style scoped>\n",
       "    .dataframe tbody tr th:only-of-type {\n",
       "        vertical-align: middle;\n",
       "    }\n",
       "\n",
       "    .dataframe tbody tr th {\n",
       "        vertical-align: top;\n",
       "    }\n",
       "\n",
       "    .dataframe thead th {\n",
       "        text-align: right;\n",
       "    }\n",
       "</style>\n",
       "<table border=\"1\" class=\"dataframe\">\n",
       "  <thead>\n",
       "    <tr style=\"text-align: right;\">\n",
       "      <th></th>\n",
       "      <th>coefficient</th>\n",
       "      <th>label</th>\n",
       "    </tr>\n",
       "    <tr>\n",
       "      <th>tweet</th>\n",
       "      <th></th>\n",
       "      <th></th>\n",
       "    </tr>\n",
       "  </thead>\n",
       "  <tbody>\n",
       "    <tr>\n",
       "      <th>&lt;user&gt; thank you too ! )\\n</th>\n",
       "      <td>3.878983</td>\n",
       "      <td>1</td>\n",
       "    </tr>\n",
       "    <tr>\n",
       "      <th>&lt;user&gt; thank you ! )\\n</th>\n",
       "      <td>3.868325</td>\n",
       "      <td>1</td>\n",
       "    </tr>\n",
       "    <tr>\n",
       "      <th>&lt;user&gt; thank you cheegu ) )\\n</th>\n",
       "      <td>3.816665</td>\n",
       "      <td>1</td>\n",
       "    </tr>\n",
       "    <tr>\n",
       "      <th>&lt;user&gt; thank you ! ! )\\n</th>\n",
       "      <td>3.611729</td>\n",
       "      <td>1</td>\n",
       "    </tr>\n",
       "    <tr>\n",
       "      <th>&lt;user&gt; thank you . )\\n</th>\n",
       "      <td>3.555496</td>\n",
       "      <td>1</td>\n",
       "    </tr>\n",
       "    <tr>\n",
       "      <th>&lt;user&gt; owkej thanks\\n</th>\n",
       "      <td>3.536475</td>\n",
       "      <td>1</td>\n",
       "    </tr>\n",
       "    <tr>\n",
       "      <th>&lt;user&gt; hey thank you ! ) )\\n</th>\n",
       "      <td>3.414597</td>\n",
       "      <td>1</td>\n",
       "    </tr>\n",
       "    <tr>\n",
       "      <th>happy birthday &lt;user&gt; all the best ! )\\n</th>\n",
       "      <td>3.413621</td>\n",
       "      <td>1</td>\n",
       "    </tr>\n",
       "    <tr>\n",
       "      <th>&lt;user&gt; thaankk you lovee . ! )\\n</th>\n",
       "      <td>3.380231</td>\n",
       "      <td>1</td>\n",
       "    </tr>\n",
       "    <tr>\n",
       "      <th>&lt;user&gt; thank you ! ! ! )\\n</th>\n",
       "      <td>3.326548</td>\n",
       "      <td>1</td>\n",
       "    </tr>\n",
       "  </tbody>\n",
       "</table>\n",
       "</div>"
      ],
      "text/plain": [
       "                                          coefficient  label\n",
       "tweet                                                       \n",
       "<user> thank you too ! )\\n                   3.878983      1\n",
       "<user> thank you ! )\\n                       3.868325      1\n",
       "<user> thank you cheegu ) )\\n                3.816665      1\n",
       "<user> thank you ! ! )\\n                     3.611729      1\n",
       "<user> thank you . )\\n                       3.555496      1\n",
       "<user> owkej thanks\\n                        3.536475      1\n",
       "<user> hey thank you ! ) )\\n                 3.414597      1\n",
       "happy birthday <user> all the best ! )\\n     3.413621      1\n",
       "<user> thaankk you lovee . ! )\\n             3.380231      1\n",
       "<user> thank you ! ! ! )\\n                   3.326548      1"
      ]
     },
     "execution_count": 8,
     "metadata": {},
     "output_type": "execute_result"
    }
   ],
   "source": [
    "df = pd.DataFrame.from_dict(dict(zip(['tweet', 'coefficient', 'label'], [val, clf.decision_function(X_val), y_val])))\n",
    "df.set_index('tweet', inplace = True)\n",
    "n_ = 10\n",
    "print('{:d} most confident correct predictions of positive tweets'.format(n_))\n",
    "df.query('label == 1').sort_values(by= 'coefficient', ascending = False).head(n_)"
   ]
  },
  {
   "cell_type": "code",
   "execution_count": 9,
   "metadata": {},
   "outputs": [
    {
     "name": "stdout",
     "output_type": "stream",
     "text": [
      "10 most confident incorrect predictions of positive tweets\n"
     ]
    },
    {
     "data": {
      "text/html": [
       "<div>\n",
       "<style scoped>\n",
       "    .dataframe tbody tr th:only-of-type {\n",
       "        vertical-align: middle;\n",
       "    }\n",
       "\n",
       "    .dataframe tbody tr th {\n",
       "        vertical-align: top;\n",
       "    }\n",
       "\n",
       "    .dataframe thead th {\n",
       "        text-align: right;\n",
       "    }\n",
       "</style>\n",
       "<table border=\"1\" class=\"dataframe\">\n",
       "  <thead>\n",
       "    <tr style=\"text-align: right;\">\n",
       "      <th></th>\n",
       "      <th>coefficient</th>\n",
       "      <th>label</th>\n",
       "    </tr>\n",
       "    <tr>\n",
       "      <th>tweet</th>\n",
       "      <th></th>\n",
       "      <th></th>\n",
       "    </tr>\n",
       "  </thead>\n",
       "  <tbody>\n",
       "    <tr>\n",
       "      <th>seeing niall cry is so sad\\n</th>\n",
       "      <td>-2.384333</td>\n",
       "      <td>1</td>\n",
       "    </tr>\n",
       "    <tr>\n",
       "      <th>i lost my phon ( no seriously i did where is it omg ; _\\n</th>\n",
       "      <td>-2.365413</td>\n",
       "      <td>1</td>\n",
       "    </tr>\n",
       "    <tr>\n",
       "      <th>&lt;user&gt; what the pqo ? (\\n</th>\n",
       "      <td>-2.303933</td>\n",
       "      <td>1</td>\n",
       "    </tr>\n",
       "    <tr>\n",
       "      <th>&lt;user&gt; why the sad face ? ! x\\n</th>\n",
       "      <td>-2.141454</td>\n",
       "      <td>1</td>\n",
       "    </tr>\n",
       "    <tr>\n",
       "      <th>sleepy all the day fatni elarb 3a2 : ' ' ' ( &lt; / / / 3\\n</th>\n",
       "      <td>-2.110856</td>\n",
       "      <td>1</td>\n",
       "    </tr>\n",
       "    <tr>\n",
       "      <th>&lt;user&gt; i love youuu so much i neeed to see u again ! why did sunday have to end i wish i could go back to that day ! ! xxx\\n</th>\n",
       "      <td>-2.060610</td>\n",
       "      <td>1</td>\n",
       "    </tr>\n",
       "    <tr>\n",
       "      <th>gonna do this while i really want to do this : \" \" \" (\\n</th>\n",
       "      <td>-2.003104</td>\n",
       "      <td>1</td>\n",
       "    </tr>\n",
       "    <tr>\n",
       "      <th>&lt;user&gt; follow me please (\\n</th>\n",
       "      <td>-1.971156</td>\n",
       "      <td>1</td>\n",
       "    </tr>\n",
       "    <tr>\n",
       "      <th>&lt;user&gt; aww poor mummy\\n</th>\n",
       "      <td>-1.968364</td>\n",
       "      <td>1</td>\n",
       "    </tr>\n",
       "    <tr>\n",
       "      <th>&lt;user&gt; aw damn it . sorry i can't eat my teeth hurts a lot ! next time\\n</th>\n",
       "      <td>-1.962519</td>\n",
       "      <td>1</td>\n",
       "    </tr>\n",
       "  </tbody>\n",
       "</table>\n",
       "</div>"
      ],
      "text/plain": [
       "                                                    coefficient  label\n",
       "tweet                                                                 \n",
       "seeing niall cry is so sad\\n                          -2.384333      1\n",
       "i lost my phon ( no seriously i did where is it...    -2.365413      1\n",
       "<user> what the pqo ? (\\n                             -2.303933      1\n",
       "<user> why the sad face ? ! x\\n                       -2.141454      1\n",
       "sleepy all the day fatni elarb 3a2 : ' ' ' ( < ...    -2.110856      1\n",
       "<user> i love youuu so much i neeed to see u ag...    -2.060610      1\n",
       "gonna do this while i really want to do this : ...    -2.003104      1\n",
       "<user> follow me please (\\n                           -1.971156      1\n",
       "<user> aww poor mummy\\n                               -1.968364      1\n",
       "<user> aw damn it . sorry i can't eat my teeth ...    -1.962519      1"
      ]
     },
     "execution_count": 9,
     "metadata": {},
     "output_type": "execute_result"
    }
   ],
   "source": [
    "print('{:d} most confident incorrect predictions of positive tweets'.format(n_))\n",
    "df.query('label == 1').sort_values(by= 'coefficient', ascending = True).head(n_)"
   ]
  },
  {
   "cell_type": "code",
   "execution_count": 10,
   "metadata": {},
   "outputs": [
    {
     "name": "stdout",
     "output_type": "stream",
     "text": [
      "10 most confident correct predictions of negative tweets\n"
     ]
    },
    {
     "data": {
      "text/html": [
       "<div>\n",
       "<style scoped>\n",
       "    .dataframe tbody tr th:only-of-type {\n",
       "        vertical-align: middle;\n",
       "    }\n",
       "\n",
       "    .dataframe tbody tr th {\n",
       "        vertical-align: top;\n",
       "    }\n",
       "\n",
       "    .dataframe thead th {\n",
       "        text-align: right;\n",
       "    }\n",
       "</style>\n",
       "<table border=\"1\" class=\"dataframe\">\n",
       "  <thead>\n",
       "    <tr style=\"text-align: right;\">\n",
       "      <th></th>\n",
       "      <th>coefficient</th>\n",
       "      <th>label</th>\n",
       "    </tr>\n",
       "    <tr>\n",
       "      <th>tweet</th>\n",
       "      <th></th>\n",
       "      <th></th>\n",
       "    </tr>\n",
       "  </thead>\n",
       "  <tbody>\n",
       "    <tr>\n",
       "      <th>the lastborn of elvinwood ( paperback &lt;url&gt;\\n</th>\n",
       "      <td>-4.558267</td>\n",
       "      <td>0</td>\n",
       "    </tr>\n",
       "    <tr>\n",
       "      <th>i have a weadacheee ( ( wahhh\\n</th>\n",
       "      <td>-4.258736</td>\n",
       "      <td>0</td>\n",
       "    </tr>\n",
       "    <tr>\n",
       "      <th>i miss &lt;user&gt; (\\n</th>\n",
       "      <td>-4.256650</td>\n",
       "      <td>0</td>\n",
       "    </tr>\n",
       "    <tr>\n",
       "      <th>mis chichas\\n</th>\n",
       "      <td>-4.175900</td>\n",
       "      <td>0</td>\n",
       "    </tr>\n",
       "    <tr>\n",
       "      <th>&lt;user&gt; when will you notice me ? i'm so sad (\\n</th>\n",
       "      <td>-4.063822</td>\n",
       "      <td>0</td>\n",
       "    </tr>\n",
       "    <tr>\n",
       "      <th>this song is so sad ... #ripzack (\\n</th>\n",
       "      <td>-3.982160</td>\n",
       "      <td>0</td>\n",
       "    </tr>\n",
       "    <tr>\n",
       "      <th>ughhh my tummy hurts really bad ( (\\n</th>\n",
       "      <td>-3.968909</td>\n",
       "      <td>0</td>\n",
       "    </tr>\n",
       "    <tr>\n",
       "      <th>&lt;user&gt; didn't tweet me and i'm so sad ( (\\n</th>\n",
       "      <td>-3.937913</td>\n",
       "      <td>0</td>\n",
       "    </tr>\n",
       "    <tr>\n",
       "      <th>&lt;user&gt; &lt;user&gt; &lt;user&gt; &lt;user&gt; &lt;user&gt; i miss you guys . ( ( i'm so sad . i want to just cry or something .\\n</th>\n",
       "      <td>-3.861699</td>\n",
       "      <td>0</td>\n",
       "    </tr>\n",
       "    <tr>\n",
       "      <th>i feeel sooo bad for her . like its sooo sad ( ( ( aww\\n</th>\n",
       "      <td>-3.857192</td>\n",
       "      <td>0</td>\n",
       "    </tr>\n",
       "  </tbody>\n",
       "</table>\n",
       "</div>"
      ],
      "text/plain": [
       "                                                    coefficient  label\n",
       "tweet                                                                 \n",
       "the lastborn of elvinwood ( paperback <url>\\n         -4.558267      0\n",
       "i have a weadacheee ( ( wahhh\\n                       -4.258736      0\n",
       "i miss <user> (\\n                                     -4.256650      0\n",
       "mis chichas\\n                                         -4.175900      0\n",
       "<user> when will you notice me ? i'm so sad (\\n       -4.063822      0\n",
       "this song is so sad ... #ripzack (\\n                  -3.982160      0\n",
       "ughhh my tummy hurts really bad ( (\\n                 -3.968909      0\n",
       "<user> didn't tweet me and i'm so sad ( (\\n           -3.937913      0\n",
       "<user> <user> <user> <user> <user> i miss you g...    -3.861699      0\n",
       "i feeel sooo bad for her . like its sooo sad ( ...    -3.857192      0"
      ]
     },
     "execution_count": 10,
     "metadata": {},
     "output_type": "execute_result"
    }
   ],
   "source": [
    "print('{:d} most confident correct predictions of negative tweets'.format(n_))\n",
    "df.query('label == 0').sort_values(by= 'coefficient', ascending = True).head(n_)"
   ]
  },
  {
   "cell_type": "code",
   "execution_count": 11,
   "metadata": {},
   "outputs": [
    {
     "name": "stdout",
     "output_type": "stream",
     "text": [
      "10 most confident incorrect predictions of negative tweets\n"
     ]
    },
    {
     "data": {
      "text/html": [
       "<div>\n",
       "<style scoped>\n",
       "    .dataframe tbody tr th:only-of-type {\n",
       "        vertical-align: middle;\n",
       "    }\n",
       "\n",
       "    .dataframe tbody tr th {\n",
       "        vertical-align: top;\n",
       "    }\n",
       "\n",
       "    .dataframe thead th {\n",
       "        text-align: right;\n",
       "    }\n",
       "</style>\n",
       "<table border=\"1\" class=\"dataframe\">\n",
       "  <thead>\n",
       "    <tr style=\"text-align: right;\">\n",
       "      <th></th>\n",
       "      <th>coefficient</th>\n",
       "      <th>label</th>\n",
       "    </tr>\n",
       "    <tr>\n",
       "      <th>tweet</th>\n",
       "      <th></th>\n",
       "      <th></th>\n",
       "    </tr>\n",
       "  </thead>\n",
       "  <tbody>\n",
       "    <tr>\n",
       "      <th>&lt;user&gt; to machucada ) )\\n</th>\n",
       "      <td>2.901979</td>\n",
       "      <td>0</td>\n",
       "    </tr>\n",
       "    <tr>\n",
       "      <th>&lt;user&gt; whatssofunny !\\n</th>\n",
       "      <td>2.493353</td>\n",
       "      <td>0</td>\n",
       "    </tr>\n",
       "    <tr>\n",
       "      <th>&lt;user&gt; puxis\\n</th>\n",
       "      <td>2.310252</td>\n",
       "      <td>0</td>\n",
       "    </tr>\n",
       "    <tr>\n",
       "      <th>&lt;user&gt; stoppostingpictureswiththatdeliciouscupcakeoriwilllbiteyoubecauseitlookssoawesomeandiwanttoeatit\\n</th>\n",
       "      <td>2.310252</td>\n",
       "      <td>0</td>\n",
       "    </tr>\n",
       "    <tr>\n",
       "      <th>&lt;user&gt; #thatawkwardmomentwhenaugieinternettakesaneternitytoloadthevideo\\n</th>\n",
       "      <td>2.310252</td>\n",
       "      <td>0</td>\n",
       "    </tr>\n",
       "    <tr>\n",
       "      <th>&lt;user&gt; wheheheheh\\n</th>\n",
       "      <td>2.310252</td>\n",
       "      <td>0</td>\n",
       "    </tr>\n",
       "    <tr>\n",
       "      <th>&lt;user&gt; mthatha\\n</th>\n",
       "      <td>2.310252</td>\n",
       "      <td>0</td>\n",
       "    </tr>\n",
       "    <tr>\n",
       "      <th>&lt;user&gt; ayudameee\\n</th>\n",
       "      <td>2.310252</td>\n",
       "      <td>0</td>\n",
       "    </tr>\n",
       "    <tr>\n",
       "      <th>&lt;user&gt; sakina almskeenaelly btdawm\\n</th>\n",
       "      <td>2.310252</td>\n",
       "      <td>0</td>\n",
       "    </tr>\n",
       "    <tr>\n",
       "      <th>rt \" &lt;user&gt; happy birthday to #oomf &lt;user&gt; ) \" my favorite smiley !\\n</th>\n",
       "      <td>2.130176</td>\n",
       "      <td>0</td>\n",
       "    </tr>\n",
       "  </tbody>\n",
       "</table>\n",
       "</div>"
      ],
      "text/plain": [
       "                                                    coefficient  label\n",
       "tweet                                                                 \n",
       "<user> to machucada ) )\\n                              2.901979      0\n",
       "<user> whatssofunny !\\n                                2.493353      0\n",
       "<user> puxis\\n                                         2.310252      0\n",
       "<user> stoppostingpictureswiththatdeliciouscupc...     2.310252      0\n",
       "<user> #thatawkwardmomentwhenaugieinternettakes...     2.310252      0\n",
       "<user> wheheheheh\\n                                    2.310252      0\n",
       "<user> mthatha\\n                                       2.310252      0\n",
       "<user> ayudameee\\n                                     2.310252      0\n",
       "<user> sakina almskeenaelly btdawm\\n                   2.310252      0\n",
       "rt \" <user> happy birthday to #oomf <user> ) \" ...     2.130176      0"
      ]
     },
     "execution_count": 11,
     "metadata": {},
     "output_type": "execute_result"
    }
   ],
   "source": [
    "print('{:d} most confident incorrect predictions of negative tweets'.format(n_))\n",
    "df.query('label == 0').sort_values(by= 'coefficient', ascending = False).head(n_)"
   ]
  }
 ],
 "metadata": {
  "kernelspec": {
   "display_name": "Python 3",
   "language": "python",
   "name": "python3"
  },
  "language_info": {
   "codemirror_mode": {
    "name": "ipython",
    "version": 3
   },
   "file_extension": ".py",
   "mimetype": "text/x-python",
   "name": "python",
   "nbconvert_exporter": "python",
   "pygments_lexer": "ipython3",
   "version": "3.8.5"
  }
 },
 "nbformat": 4,
 "nbformat_minor": 4
}
