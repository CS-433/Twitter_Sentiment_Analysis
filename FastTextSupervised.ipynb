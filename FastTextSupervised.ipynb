{
 "cells": [
  {
   "cell_type": "markdown",
   "metadata": {},
   "source": [
    "### Creating a FastText labeled dataset"
   ]
  },
  {
   "cell_type": "code",
   "execution_count": 1,
   "metadata": {},
   "outputs": [],
   "source": [
    "%load_ext autoreload\n",
    "\n",
    "import numpy as np \n",
    "import pandas as pd \n",
    "import helpers \n",
    "\n",
    "CREATE_NEW_DATASET = False # If need to create a labeled text file for FastText \n",
    "if CREATE_NEW_DATASET:\n",
    "    \n",
    "    # Load training set\n",
    "    pos_filename = 'twitter-datasets/train_pos_full_u.txt'\n",
    "    neg_filename = 'twitter-datasets/train_neg_full_u.txt'\n",
    "    pos_tweets = helpers.txt_to_list(pos_filename)\n",
    "    neg_tweets = helpers.txt_to_list(neg_filename)\n",
    "    \n",
    "    # Create a labeled dataset \n",
    "    all_tweets, y = helpers.merge_shuffle_label(pos_tweets, neg_tweets)\n",
    "    \n",
    "    # Split into train and validation sets\n",
    "    training_fraction = 0.8\n",
    "    train, val, y_train, y_val = helpers.split_dataset(training_fraction, all_tweets, y)\n",
    "    \n",
    "    # Create a labeled text files for supervised FastText\n",
    "    labeled_filename_full = 'twitter-datasets/full_u_labeled.txt'\n",
    "    labeled_filename_train = 'twitter-datasets/train_u_labeled.txt'\n",
    "    labeled_filename_val = 'twitter-datasets/val_u_labeled.txt'\n",
    "\n",
    "    write_labeled(labeled_filename_full, all_tweets, y)\n",
    "    write_labeled(labeled_filename_train, train, y_train)\n",
    "    write_labeled(labeled_filename_val, val, y_val)\n"
   ]
  },
  {
   "cell_type": "markdown",
   "metadata": {},
   "source": [
    "### Evaluating validation performance"
   ]
  },
  {
   "cell_type": "code",
   "execution_count": 2,
   "metadata": {},
   "outputs": [
    {
     "name": "stdout",
     "output_type": "stream",
     "text": [
      "Precision 0.851\n",
      "Recall 0.851\n"
     ]
    }
   ],
   "source": [
    "import fasttext\n",
    "\n",
    "# Filenames \n",
    "labeled_filename_full = 'twitter-datasets/full_u_labeled.txt'\n",
    "labeled_filename_train = 'twitter-datasets/train_u_labeled.txt'\n",
    "labeled_filename_val = 'twitter-datasets/val_u_labeled.txt'\n",
    "\n",
    "\n",
    "model = fasttext.train_supervised(labeled_filename_train, epoch = 1, dim = 100, wordNgrams = 2, ws = 5, lr = 1)\n",
    "\n",
    "def print_results(N, p, r):\n",
    "    print(\"Precision {:.3f}\".format(p))\n",
    "    print(\"Recall {:.3f}\".format(r))\n",
    "\n",
    "print_results(*model.test(labeled_filename_val))"
   ]
  },
  {
   "cell_type": "code",
   "execution_count": 4,
   "metadata": {},
   "outputs": [],
   "source": [
    "# Train full model\n",
    "model = fasttext.train_supervised(labeled_filename_full, epoch = 10, dim = 100, wordNgrams = 2, lr = 1)\n",
    "\n",
    "# Create test set for FastText\n",
    "test_filename = 'twitter-datasets/test_data.txt'\n",
    "test_tweets = []\n",
    "with open(test_filename, encoding = 'utf-8') as f:\n",
    "    for line in f:\n",
    "        sp = line.split(',')\n",
    "        index = sp[0]\n",
    "        test_tweets.append(','.join(sp[1:])[:-1]) # Remove index and \\n\n",
    "        \n",
    "# Generate predictions\n",
    "res = {'__label__0': 0, '__label__1': 1}\n",
    "predictions = np.array([res[el[0]] for el in model.predict(test_tweets, k=1)[0]])\n",
    "\n",
    "# Save predictions\n",
    "save_filename = 'submissions/submission_fasttext.csv'\n",
    "helpers.save_pred(save_filename, predictions)"
   ]
  }
 ],
 "metadata": {
  "kernelspec": {
   "display_name": "Python 3",
   "language": "python",
   "name": "python3"
  },
  "language_info": {
   "codemirror_mode": {
    "name": "ipython",
    "version": 3
   },
   "file_extension": ".py",
   "mimetype": "text/x-python",
   "name": "python",
   "nbconvert_exporter": "python",
   "pygments_lexer": "ipython3",
   "version": "3.8.5"
  }
 },
 "nbformat": 4,
 "nbformat_minor": 4
}
