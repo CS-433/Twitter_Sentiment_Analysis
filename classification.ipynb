{
 "cells": [
  {
   "cell_type": "code",
   "execution_count": 1,
   "metadata": {},
   "outputs": [],
   "source": [
    "import numpy as np \n",
    "import pickle \n",
    "from sklearn import linear_model\n",
    "from sklearn.preprocessing import StandardScaler\n",
    "from sklearn.pipeline import make_pipeline\n",
    "\n",
    "# Load embeddings\n",
    "E = np.load('embeddings.npy')\n",
    "\n",
    "# Load vocabulary\n",
    "with open('vocab.pkl', 'rb') as f:\n",
    "    vocab = pickle.load(f)"
   ]
  },
  {
   "cell_type": "code",
   "execution_count": 2,
   "metadata": {},
   "outputs": [],
   "source": [
    "# Load positive tweets\n",
    "pos_tweets = []\n",
    "with open('train_pos.txt') as f:\n",
    "    for line in f:\n",
    "        pos_tweets.append(line.split())\n",
    "        \n",
    "# Load negative tweets\n",
    "neg_tweets = []\n",
    "with open('train_neg.txt') as f:\n",
    "    for line in f:\n",
    "        neg_tweets.append(line.split())"
   ]
  },
  {
   "cell_type": "code",
   "execution_count": 3,
   "metadata": {},
   "outputs": [],
   "source": [
    "def tweet_to_coords(tweet):\n",
    "    \"\"\" Convert a tweet into the average of its embedded words.\n",
    "    Technique from https://www.sciencedirect.com/science/article/pii/S1877050918301030.\n",
    "    \"\"\"\n",
    "    \n",
    "    components = []\n",
    "    for word in tweet: \n",
    "        if word in vocab: \n",
    "            components.append(vocab[word])\n",
    "    if (len(components) > 0):\n",
    "        return E[components].mean(axis = 0)\n",
    "    else: \n",
    "        return np.zeros(20) # TODO: find a representation for tweets that have only rare (<5 occurences) words\n",
    "        \n"
   ]
  },
  {
   "cell_type": "code",
   "execution_count": 4,
   "metadata": {},
   "outputs": [],
   "source": [
    "pos_tweets_coords = np.array([list(map(tweet_to_coords, pos_tweets))]).squeeze()\n",
    "neg_tweets_coords = np.array([list(map(tweet_to_coords, neg_tweets))]).squeeze()\n",
    "X = np.concatenate((pos_tweets_coords, neg_tweets_coords))\n",
    "y = np.concatenate((np.ones(len(pos_tweets)), np.zeros(len(neg_tweets))))\n",
    "\n",
    "random_idxs = np.random.permutation(len(y))\n",
    "X = X[random_idxs]\n",
    "y = y[random_idxs]\n",
    "\n",
    "N_train = int(0.8*len(y))\n",
    "\n",
    "X_train, X_test = X[:N_train], X[N_train:]\n",
    "y_train, y_test = y[:N_train], y[N_train:]"
   ]
  },
  {
   "cell_type": "code",
   "execution_count": 5,
   "metadata": {},
   "outputs": [
    {
     "data": {
      "text/plain": [
       "Pipeline(steps=[('standardscaler', StandardScaler()),\n",
       "                ('sgdclassifier', SGDClassifier(loss='log', tol=0.0001))])"
      ]
     },
     "execution_count": 5,
     "metadata": {},
     "output_type": "execute_result"
    }
   ],
   "source": [
    "clf = make_pipeline(StandardScaler(), linear_model.SGDClassifier(loss = 'log', max_iter=1000, tol=1e-4, verbose = True ))\n",
    "\n",
    "\n",
    "clf.fit(X_train, y_train)\n",
    "(clf.predict(X_test) == y_test).mean()"
   ]
  },
  {
   "cell_type": "code",
   "execution_count": 9,
   "metadata": {},
   "outputs": [
    {
     "name": "stdout",
     "output_type": "stream",
     "text": [
      "[LibSVM]"
     ]
    },
    {
     "name": "stderr",
     "output_type": "stream",
     "text": [
      "C:\\Users\\alexf\\Anaconda3\\envs\\ml\\lib\\site-packages\\sklearn\\svm\\_base.py:246: ConvergenceWarning: Solver terminated early (max_iter=10000).  Consider pre-processing your data with StandardScaler or MinMaxScaler.\n",
      "  warnings.warn('Solver terminated early (max_iter=%i).'\n"
     ]
    },
    {
     "data": {
      "text/plain": [
       "0.5829"
      ]
     },
     "execution_count": 9,
     "metadata": {},
     "output_type": "execute_result"
    }
   ],
   "source": [
    "from sklearn.svm import SVC\n",
    "clf = make_pipeline(StandardScaler(), SVC(gamma='auto', tol = 1e-3, verbose = True, max_iter = 10000))\n",
    "\n",
    "clf.fit(X_train, y_train)\n",
    "(clf.predict(X_test) == y_test).mean()"
   ]
  },
  {
   "cell_type": "code",
   "execution_count": 25,
   "metadata": {},
   "outputs": [
    {
     "data": {
      "text/plain": [
       "(160000, 20)"
      ]
     },
     "execution_count": 25,
     "metadata": {},
     "output_type": "execute_result"
    }
   ],
   "source": [
    "X_train.shape"
   ]
  },
  {
   "cell_type": "code",
   "execution_count": 28,
   "metadata": {},
   "outputs": [
    {
     "name": "stderr",
     "output_type": "stream",
     "text": [
      "C:\\Users\\alexf\\Anaconda3\\envs\\ml\\lib\\site-packages\\sklearn\\neural_network\\_multilayer_perceptron.py:471: ConvergenceWarning: lbfgs failed to converge (status=1):\n",
      "STOP: TOTAL NO. of ITERATIONS REACHED LIMIT.\n",
      "\n",
      "Increase the number of iterations (max_iter) or scale the data as shown in:\n",
      "    https://scikit-learn.org/stable/modules/preprocessing.html\n",
      "  self.n_iter_ = _check_optimize_result(\"lbfgs\", opt_res, self.max_iter)\n"
     ]
    },
    {
     "data": {
      "text/plain": [
       "0.62475"
      ]
     },
     "execution_count": 28,
     "metadata": {},
     "output_type": "execute_result"
    }
   ],
   "source": [
    "from sklearn.neural_network import MLPClassifier\n",
    "clf = make_pipeline(StandardScaler(), MLPClassifier(solver='lbfgs', alpha=1e-2, \\\n",
    "                                                    hidden_layer_sizes=(10, 5), random_state=0, verbose = True, max_iter = 1000))\n",
    "\n",
    "clf.fit(X_train, y_train)\n",
    "(clf.predict(X_test) == y_test).mean()"
   ]
  },
  {
   "cell_type": "code",
   "execution_count": 27,
   "metadata": {},
   "outputs": [
    {
     "data": {
      "text/plain": [
       "0.601775"
      ]
     },
     "execution_count": 27,
     "metadata": {},
     "output_type": "execute_result"
    }
   ],
   "source": [
    "from sklearn.svm import LinearSVC\n",
    "\n",
    "clf = make_pipeline(StandardScaler(), LinearSVC(random_state=0, tol=1e-5, loss = 'squared_hinge', dual = False))\n",
    "clf.fit(X_train, y_train)\n",
    "(clf.predict(X_test) == y_test).mean()"
   ]
  }
 ],
 "metadata": {
  "kernelspec": {
   "display_name": "Python 3",
   "language": "python",
   "name": "python3"
  },
  "language_info": {
   "codemirror_mode": {
    "name": "ipython",
    "version": 3
   },
   "file_extension": ".py",
   "mimetype": "text/x-python",
   "name": "python",
   "nbconvert_exporter": "python",
   "pygments_lexer": "ipython3",
   "version": "3.7.6"
  }
 },
 "nbformat": 4,
 "nbformat_minor": 4
}
