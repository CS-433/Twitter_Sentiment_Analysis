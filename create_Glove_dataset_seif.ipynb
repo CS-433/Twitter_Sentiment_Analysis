{
 "cells": [
  {
   "cell_type": "code",
   "execution_count": 1,
   "metadata": {},
   "outputs": [],
   "source": [
    "import numpy as np"
   ]
  },
  {
   "cell_type": "code",
   "execution_count": 2,
   "metadata": {},
   "outputs": [],
   "source": [
    "#creates a dictionarry with the word embedding corresponding to each word in vocab_cut\n",
    "def word_embedding():\n",
    "    word_emb = dict()\n",
    "    embedding=np.load('embeddings.npy')\n",
    "    with open('vocab_cut.txt') as f:\n",
    "        for idx, line in enumerate(f):\n",
    "            word_emb[line.strip()] = embedding[idx]\n",
    "    return word_emb"
   ]
  },
  {
   "cell_type": "code",
   "execution_count": 3,
   "metadata": {},
   "outputs": [],
   "source": [
    "word_emb=word_embedding()"
   ]
  },
  {
   "cell_type": "code",
   "execution_count": 4,
   "metadata": {},
   "outputs": [],
   "source": [
    "#returns X containing the features and Y the Labels\n",
    "def create_glove_dataset(pos_path,neg_path,dim):\n",
    "    X_train=[]\n",
    "    X_test=[]\n",
    "    \n",
    "    nb_pos_train=0\n",
    "    with open(pos_path) as f:\n",
    "        for idx, line in enumerate(f):\n",
    "            nb_pos_train+=1\n",
    "            nb_words=0\n",
    "            sum_embedding=np.zeros(dim)\n",
    "            words=line.split()\n",
    "            for word in words:\n",
    "                if word_emb.get(word) is not None:\n",
    "                    nb_words+=1\n",
    "                    sum_embedding+=word_emb[word]\n",
    "            if (nb_words==0):\n",
    "                X_train.append(sum_embedding)\n",
    "                \n",
    "            else:    \n",
    "                X_train.append(sum_embedding/nb_words) \n",
    "    print('nb_pos_train=',nb_pos_train)\n",
    "    \n",
    "    nb_neg_train=0            \n",
    "    with open(neg_path) as f2:    \n",
    "        for idx, line in enumerate(f2):\n",
    "            nb_neg_train+=1\n",
    "            nb_words=0\n",
    "            sum_embedding=np.zeros(dim)\n",
    "            words=line.split()\n",
    "            for word in words:\n",
    "                if word_emb.get(word) is not None:\n",
    "                    nb_words+=1\n",
    "                    sum_embedding+=word_emb[word]\n",
    "            if (nb_words==0):\n",
    "                X_train.append(sum_embedding)\n",
    "                \n",
    "            else:    \n",
    "                X_train.append(sum_embedding/nb_words)\n",
    "    print('nb_neg_train=',nb_neg_train)    \n",
    "    \n",
    "    Y_train=np.zeros(nb_pos_train+nb_neg_train)\n",
    "    Y_train[:nb_pos_train]=0\n",
    "    Y_train[nb_pos_train:nb_neg_train]=1\n",
    "    \n",
    "    \n",
    "    \n",
    "    return X_train,Y_train              \n",
    "                    \n"
   ]
  },
  {
   "cell_type": "code",
   "execution_count": 5,
   "metadata": {},
   "outputs": [
    {
     "name": "stdout",
     "output_type": "stream",
     "text": [
      "nb_pos_train= 100000\n",
      "nb_neg_train= 100000\n"
     ]
    }
   ],
   "source": [
    "X,Y=create_glove_dataset('pos_train.txt','neg_train.txt',20)\n"
   ]
  },
  {
   "cell_type": "code",
   "execution_count": 94,
   "metadata": {},
   "outputs": [
    {
     "name": "stdout",
     "output_type": "stream",
     "text": [
      "(200000, 20)\n",
      "(200000,)\n"
     ]
    }
   ],
   "source": [
    "print(np.shape(X))\n",
    "print(np.shape(Y))"
   ]
  },
  {
   "cell_type": "code",
   "execution_count": 95,
   "metadata": {},
   "outputs": [
    {
     "name": "stdout",
     "output_type": "stream",
     "text": [
      "nb_pos_train= 1250000\n",
      "nb_neg_train= 1250000\n"
     ]
    }
   ],
   "source": [
    "X,Y=create_glove_dataset('train_pos_full.txt','train_neg_full.txt',20)"
   ]
  },
  {
   "cell_type": "code",
   "execution_count": 96,
   "metadata": {},
   "outputs": [
    {
     "name": "stdout",
     "output_type": "stream",
     "text": [
      "(2500000, 20)\n",
      "(2500000,)\n"
     ]
    }
   ],
   "source": [
    "print(np.shape(X))\n",
    "print(np.shape(Y))"
   ]
  },
  {
   "cell_type": "code",
   "execution_count": null,
   "metadata": {},
   "outputs": [],
   "source": []
  }
 ],
 "metadata": {
  "kernelspec": {
   "display_name": "Python 3",
   "language": "python",
   "name": "python3"
  },
  "language_info": {
   "codemirror_mode": {
    "name": "ipython",
    "version": 3
   },
   "file_extension": ".py",
   "mimetype": "text/x-python",
   "name": "python",
   "nbconvert_exporter": "python",
   "pygments_lexer": "ipython3",
   "version": "3.7.6"
  }
 },
 "nbformat": 4,
 "nbformat_minor": 4
}
