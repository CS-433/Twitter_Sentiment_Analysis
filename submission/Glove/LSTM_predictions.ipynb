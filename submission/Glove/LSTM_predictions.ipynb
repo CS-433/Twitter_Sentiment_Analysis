{
 "cells": [
  {
   "cell_type": "markdown",
   "metadata": {},
   "source": [
    "# Glove (with LSTM) - Predictions"
   ]
  },
  {
   "cell_type": "raw",
   "metadata": {},
   "source": [
    "This notebook loads the predictions made with GLOVE + LSTM"
   ]
  },
  {
   "cell_type": "markdown",
   "metadata": {},
   "source": [
    "# Reproducibility"
   ]
  },
  {
   "cell_type": "markdown",
   "metadata": {},
   "source": [
    "After running this notebook, you will obtain the submission file used for Submission #110046 on AIcrowd"
   ]
  },
  {
   "cell_type": "markdown",
   "metadata": {},
   "source": [
    "| Accuracy | F1 \n",
    "| :- | -:  |\n",
    "| 85% | 84.9% "
   ]
  },
  {
   "cell_type": "raw",
   "metadata": {},
   "source": [
    "Since we wasn't able to save the LSTM model, the submission file can be downloaded directly here, otherwise ,\n",
    "the model can be generated in LSTM_training"
   ]
  },
  {
   "cell_type": "markdown",
   "metadata": {},
   "source": [
    "# Download submission file"
   ]
  },
  {
   "cell_type": "code",
   "execution_count": 4,
   "metadata": {},
   "outputs": [
    {
     "name": "stderr",
     "output_type": "stream",
     "text": [
      "[nltk_data] Downloading package wordnet to /Users/macbook/nltk_data...\n",
      "[nltk_data]   Package wordnet is already up-to-date!\n",
      "[nltk_data] Downloading package stopwords to\n",
      "[nltk_data]     /Users/macbook/nltk_data...\n",
      "[nltk_data]   Package stopwords is already up-to-date!\n"
     ]
    }
   ],
   "source": [
    "import os \n",
    "import wget\n",
    "import LSTM_models as mod\n",
    "import pickle\n",
    "import preprocessing as pre\n",
    "root = 'data/'\n",
    "\n",
    "os.makedirs(root, exist_ok=True)\n",
    "\n",
    "seed = 0\n",
    "\n",
    "\n",
    "submission_url = 'https://api.onedrive.com/v1.0/shares/u!aHR0cHM6Ly8xZHJ2Lm1zL3UvcyFBclREZ3U5ejdJT1ZqcU02NlRkVzNJMnVvbkRRUHc_ZT00OUVm/root/content'\n",
    "submission_filename = root + 'submission.csv'\n",
    "wget.download(submission_url, submission_filename)\n",
    "\n"
   ]
  }
 ],
 "metadata": {
  "kernelspec": {
   "display_name": "Python 3",
   "language": "python",
   "name": "python3"
  },
  "language_info": {
   "codemirror_mode": {
    "name": "ipython",
    "version": 3
   },
   "file_extension": ".py",
   "mimetype": "text/x-python",
   "name": "python",
   "nbconvert_exporter": "python",
   "pygments_lexer": "ipython3",
   "version": "3.7.6"
  }
 },
 "nbformat": 4,
 "nbformat_minor": 4
}
